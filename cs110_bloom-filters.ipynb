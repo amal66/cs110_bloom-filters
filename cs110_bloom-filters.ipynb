{
  "nbformat": 4,
  "nbformat_minor": 0,
  "metadata": {
    "colab": {
      "name": "Bloom Filters Final ",
      "version": "0.3.2",
      "provenance": [],
      "collapsed_sections": []
    },
    "kernelspec": {
      "name": "python3",
      "display_name": "Python 3"
    }
  },
  "cells": [
    {
      "metadata": {
        "id": "9SNsMiRuzTLr",
        "colab_type": "text"
      },
      "cell_type": "markdown",
      "source": [
        "#Bloom Filters - Implementation, Analysis and Extensions\n",
        "\n",
        "For this assignment, I will be implementing and analyzing a specific kind of Bloom filter known as the counting bloom filter, which is an extension of the ordinary bloom filter and has similar operations and behavior. \n",
        "\n",
        "##Overview\n",
        "A bloom filter is a probabilistic data structure works best predominately for search queries which query whether or not an element is in an existing set of elements. The bloom filter evaluates the item beign query and returns whether the item is in the set of elements or not. However, the bloom filter may incorrectly indicate that an item is in the set when it is not, and therefore the set of elements need to be checked for the element to confirm if the element is really present or not. \n",
        "\n",
        "The bloom filter has consists of a bitarray that has a set of bits which serves as a \"gate\" to determine access to an underlying data structure that contains the elements - ususally an array, but other data structues can be used as well depending on the nature of the element type. The bloom filter turns away requests if it determines the item being queried is not in the underlying data stucture, but if it accepts requests there is still a possibility it is incorrect in its determination that the item being queried is in the underlying data structure .\n",
        "\n",
        "\n",
        "##Counting Bloom Filter \n",
        "\n",
        "A counting bloom array solves for this by increasing the size of each bit in the bitarray from a 2-bit bitarray to a 5,6 or 7 bit bitarray. This enables each bit to store not just a binary but an integer. When an element is added to the bitarray, the corresponding bits are incremented by 1, and when an element is removed, the corresponding bits are decreased by 1. This enables elements to be removed from the bloom filter without any effect on the accuracy of predicting other elements that also map to the same bit. \n",
        "\n",
        "The added functionality of the bloom filter comes at a cost in terms of memory, as the memory needed increases by a multiple depending on the bitarray bit size. However, on the other hand, this ability to delete elements makes the bloom filter effective in situations where the underlying data structure is not static but has deletions. In a standard bloom filter, everytime an element is deleted, the bloom filter needs to be re-initialized, which has a complexity of O(n) if the underlying data structure is an array. However, in a counting bloom filter, the deletion complexity of O(1). \n",
        "\n",
        "This could prove useful in real-world situations where assets have fluid ownership and there is a constant flow of requests to rent these assets. However, when the assets are owned, the requests have to be returned as negative. This would be especially useful in trading platforms where there is a heavy volume of algorithmic trading. Because algorithms are submitting buy/sell requests several thousand times per minute, by decreasing the time required to return a negative value, the trading volume is increased and hence the profits of the trading platform. \n",
        "\n",
        "The operations of this counting bloom filter will be discussed later"
      ]
    },
    {
      "metadata": {
        "id": "qqKJS-2dzfYd",
        "colab_type": "text"
      },
      "cell_type": "markdown",
      "source": [
        "##Implement a Bloom filter."
      ]
    },
    {
      "metadata": {
        "id": "hbG393fpBsjm",
        "colab_type": "code",
        "outputId": "9e3470a1-be92-460e-ab1c-296d2a81f94d",
        "colab": {
          "base_uri": "https://localhost:8080/",
          "height": 170
        }
      },
      "cell_type": "code",
      "source": [
        "!pip install pyhash\n"
      ],
      "execution_count": 1,
      "outputs": [
        {
          "output_type": "stream",
          "text": [
            "Collecting pyhash\n",
            "\u001b[?25l  Downloading https://files.pythonhosted.org/packages/55/61/56af3d9ab410b0f73a1a38cf8a93f656ee9937d59c7074a3afa5edbd6008/pyhash-0.9.1.tar.gz (594kB)\n",
            "\u001b[K    100% |████████████████████████████████| 604kB 7.4MB/s \n",
            "\u001b[?25hBuilding wheels for collected packages: pyhash\n",
            "  Running setup.py bdist_wheel for pyhash ... \u001b[?25l-\b \b\\\b \b|\b \b/\b \b-\b \b\\\b \b|\b \b/\b \b-\b \b\\\b \b|\b \b/\b \b-\b \b\\\b \b|\b \b/\b \b-\b \b\\\b \b|\b \b/\b \b-\b \b\\\b \b|\b \b/\b \b-\b \bdone\n",
            "\u001b[?25h  Stored in directory: /root/.cache/pip/wheels/0a/dd/92/06521a3888c2b46df4a189f3458a78de4d769764f2a5ec639d\n",
            "Successfully built pyhash\n",
            "Installing collected packages: pyhash\n",
            "Successfully installed pyhash-0.9.1\n"
          ],
          "name": "stdout"
        }
      ]
    },
    {
      "metadata": {
        "colab_type": "code",
        "id": "IPOvoaOdPz86",
        "outputId": "e82e4b12-a89a-4697-ae6b-2b5b1e1c27e5",
        "colab": {
          "base_uri": "https://localhost:8080/",
          "height": 34
        }
      },
      "cell_type": "code",
      "source": [
        "'''\n",
        "Counting Bloom Filter Implementation \n",
        "\n",
        "'''\n",
        "\n",
        "import pyhash\n",
        "\n",
        "\n",
        "class CountingBloomFilter(object): \n",
        "  '''\n",
        "  Class for a counting bloom filter. This class is invoked to create a new \n",
        "  instance of the counting bloom filter whenever required\n",
        "  \n",
        "  '''\n",
        "\n",
        "  def __init__(self,bitarray_length,hash_count): \n",
        "    '''\n",
        "    Function purpose : To create a new counting Bloom filter \n",
        "    \n",
        "    Arguments: \n",
        "    bitarray_length: int, size of the bitarray\n",
        "    hash_count: int, number of hash Functions used on each element \n",
        "    \n",
        "    Process: \n",
        "    A new counting bloom filter is created with 4 attributes - number of \n",
        "    hash functions,bit vector, false positive counter and storage array\n",
        "    \n",
        "    Output: \n",
        "    No return values\n",
        "    \n",
        "    '''\n",
        "    \n",
        "    self.hash_count = hash_count\n",
        "    self.bit_array = bit_vector = [0] * bitarray_length\n",
        "    self.bitarray_length = bitarray_length\n",
        "    self.false_positive_counter = [0,0]\n",
        "    self.storage = []\n",
        "    \n",
        "  def hashThis(self,hashIndex,input):\n",
        "    \n",
        "    '''\n",
        "    Function purpose: To hash a incoming string to give an index of the bitarray\n",
        "    to mark the storage the input. The hashthis function is called once for each \n",
        "    hash function, and by seeding with a different index, a different hash \n",
        "    function is created \n",
        "    \n",
        "    \n",
        "    Arguments: \n",
        "    hashIndex: int, index of the hash function as multiple hash functions used\n",
        "    input: item to be hashed\n",
        "      \n",
        "    Process: \n",
        "    The fnv hash function from the pyhash library is seeded with the index to \n",
        "    ensure that the hash function returns a distinct index.Then, the hash \n",
        "    function is called on the input to give an index of the bitarray to increase\n",
        "    the storage\n",
        "    \n",
        "    Output: \n",
        "    The index of the bitarray that should be marked \n",
        "    ''\n",
        "    '''\n",
        "    \n",
        "    fp = pyhash.fnv1_32(hashIndex)\n",
        "    returnValue = fp(input) % self.bitarray_length\n",
        "    #print(\"NUMBER, RETURN VALUE\",returnValue,self.bitarray_length)\n",
        "    return (fp(input) % self.bitarray_length)\n",
        "  \n",
        "  def add(self,item): \n",
        "    '''\n",
        "    Function purpose: Adds an item to the storage array, while marking the \n",
        "    element as stored by increasing the corresponding bits in the bit array\n",
        "    \n",
        "    Arguments: \n",
        "    The self object which was created, with the bit array, hash_count and \n",
        "    storage attributes, and the item to be inserted\n",
        "    \n",
        "    \n",
        "    Process: \n",
        "    First, the item is searched for in the array using the search(item) \n",
        "    function. If it already exists, it is stated so\n",
        "   \n",
        "    Second, the element is run through all the hash functions, each of which is \n",
        "    invoked by seeding the hashThis function with a different number. The \n",
        "    bitarray index returned by each function is increased by 1\n",
        "    Then, the element is stored in the storage array \n",
        "    \n",
        "    Output: \n",
        "    No output is returned by this function - rather, the bitarray and storage \n",
        "    attributes of the object are modified to include the new item  \n",
        "    \n",
        "    '''    \n",
        "    \n",
        "    if self.search(item) == False: \n",
        "      for i in range (0,self.hash_count): \n",
        "        self.bit_array[self.hashThis(i,item)] += 1 \n",
        "      self.storage.append(item)\n",
        "    else: \n",
        "      raise Exception(\"Item already in storage\")\n",
        "    self.false_positive_counter = [0,0]\n",
        "    #print(self.bit_array)\n",
        "\n",
        "  def search(self,item): \n",
        "    \n",
        "    '''\n",
        "    Function purpose: Searches for the presence of an item in the storage array\n",
        "    \n",
        "    Arguments: \n",
        "    The self object which was created, with the bit array, hash_count,storage \n",
        "    and false_positive_counter attributes, and the item to be searched for \n",
        "    \n",
        "    \n",
        "    Process: \n",
        "    First, the element is run through all the hash functions. The bitarray index \n",
        "    returned by each function is examined. If it is 0, it indicates the item in\n",
        "    question does not exist in the storage set, and a FALSE value is returned. \n",
        "    If all the bitarray indexes return a number other than 0, then the element \n",
        "    is searched for in the storage array - with the function returning TRUE if \n",
        "    found or FALSE if not. \n",
        "    \n",
        "    Output: \n",
        "    TRUE/FALSE binary on whether the storage index contains the item being \n",
        "    searched for. \n",
        "    Though not an output, the false_positive_counter attribute is also modified\n",
        "    to keep track of what the total number of true-positives and false-positives \n",
        "    are. \n",
        "    ''' \n",
        "    \n",
        "    any_positive_binary = 1\n",
        "    for i in range (0,self.hash_count): \n",
        "      if (self.bit_array[self.hashThis(i,item)] == 0):  \n",
        "        any_positive_binary = 0\n",
        "\n",
        "       \n",
        "        \n",
        "\n",
        "    \n",
        "    if any_positive_binary == 1: \n",
        "      false_positive_binary = 1\n",
        "      for i in range (0,len(self.storage)): \n",
        "        if self.storage[i] == item: \n",
        "          false_positive_binary = 0\n",
        "          \n",
        "      if false_positive_binary == 1:\n",
        "        self.false_positive_counter[1] += 1 #false positive  \n",
        "      else: \n",
        "        return True\n",
        "    else: \n",
        "      self.false_positive_counter[0] += 1   #true negative\n",
        "    return False\n",
        "  \n",
        "  def delete(self,item): \n",
        "    '''\n",
        "    Function purpose: Deletes an item from the storage array, and reduces the \n",
        "    item's corresponding indexes in the bitarray\n",
        "    \n",
        "    Arguments: \n",
        "    The self object which was created, with the bit array, hash_count,storage \n",
        "    and false_positive_counter attributes, and the item to be deleted\n",
        "    \n",
        "    \n",
        "    Process: \n",
        "    First, the search(item) function checks if the item is in the storage array.\n",
        "    If it is not, an exception is raised that the item is not in the set \n",
        "    First, the element is run through all the hash functions. The bitarray index \n",
        "    returned by each function is reduced by 1. Then the element \n",
        "    is removed storage array. \n",
        "    \n",
        "    Output: \n",
        "    No output is returned for this function. \n",
        "    '''\n",
        "    if self.search(item): \n",
        "      for i in range (0,self.hash_count): \n",
        "        self.bit_array[self.hashThis(i,item)] -= 1\n",
        "      self.storage.remove(item)\n",
        "    else: \n",
        "      raise Exception(\"Item not in set\")\n",
        "\n",
        "\n",
        "\n",
        "import random\n",
        "import uuid \n",
        "\n",
        "'''\n",
        "The parameters for the bloom filter are first stated and used to initialize a \n",
        "bloom filter\n",
        "'''\n",
        "bitarray_length = 3000\n",
        "hashFunction_count = 5\n",
        "storageItemNumber = 500\n",
        "testItemNumber = 20000\n",
        "\n",
        "bloomf = CountingBloomFilter(bitarray_length,hashFunction_count)\n",
        "\n",
        "\n",
        "'''\n",
        "A list of random words is created, then added into the Blom filter \n",
        "'''\n",
        "\n",
        "\n",
        "for i in range(0,storageItemNumber): \n",
        "  bloomf.add(str(uuid.uuid4()))\n",
        "\n",
        "\n",
        "'''\n",
        "The wordArray is expanded to include words that are not in the Bloom filter,\n",
        "then words are randomly searched for the false positive rate is noted. \n",
        "\n",
        "'''\n",
        "for i in range (0,testItemNumber): \n",
        "  bloomf.search(str(uuid.uuid4()))\n",
        "\n",
        "print(\"False Positive, True Negative, Total Number, False positive rate\", bloomf.false_positive_counter[1],  bloomf.false_positive_counter[0],bloomf.false_positive_counter[1]+bloomf.false_positive_counter[0],bloomf.false_positive_counter[1]/(bloomf.false_positive_counter[1]+bloomf.false_positive_counter[0]))\n",
        "\n",
        "\n"
      ],
      "execution_count": 3,
      "outputs": [
        {
          "output_type": "stream",
          "text": [
            "False Positive, True Negative, Total Number, False positive rate 1204 18796 20000 0.0602\n"
          ],
          "name": "stdout"
        }
      ]
    },
    {
      "metadata": {
        "id": "6lpKkq9CAYdi",
        "colab_type": "code",
        "colab": {}
      },
      "cell_type": "code",
      "source": [
        "import uuid \n",
        "print(str(uuid.uuid4()))\n",
        "\n",
        "wordArray = RandomWords().get_random_words(limit=testItemNumber)"
      ],
      "execution_count": 0,
      "outputs": []
    },
    {
      "metadata": {
        "id": "1i-08vWJKRi1",
        "colab_type": "code",
        "colab": {}
      },
      "cell_type": "code",
      "source": [
        "bloomf.false_positive_counter = [0,0]\n",
        "for i in range (0,testItemNumber): \n",
        "  searchNumber = random.randint(0,len(wordArray) - 1)\n",
        "  searchedWord = wordArray[searchNumber]\n",
        "  bloomf.search(searchedWord)\n",
        "\n",
        "print(\"False Positive, True Negative, Total Number, False positive rate\", bloomf.false_positive_counter[1],  bloomf.false_positive_counter[0],bloomf.false_positive_counter[1]+bloomf.false_positive_counter[0],bloomf.false_positive_counter[1]/(bloomf.false_positive_counter[1]+bloomf.false_positive_counter[0]))\n",
        "\n"
      ],
      "execution_count": 0,
      "outputs": []
    },
    {
      "metadata": {
        "id": "6sEDLFCcg8zA",
        "colab_type": "text"
      },
      "cell_type": "markdown",
      "source": [
        "##Operations\n",
        "\n",
        "After being initialized, the ordinary bloom filter supports only the addition of an element and searching of an element. The counting bloom filter expands on this functionality by also supporting the deletion of elements from a set. Each of these operations will now be explained. \n",
        "\n",
        "###Initialization\n",
        "\n",
        "Initialization of a Bloom filter consists of taking each element, putting it through all hash functions and marking the corresponding bits on the bitarray. This is a O(n) order operation, with n representing the number of elements being stored - for each element, there is a constant number of operations in terms of accessign the element, putting it through the 2 hash functions, and marking the bitarray. \n",
        "\n",
        "###Addition\n",
        "\n",
        "To add an element to a bloom filter, the element is first run through k number of hash functions. Each hash function takes in the element and returns the index of the bitarray where the element should be marked. The relevant indices are then marked. In a ordinary bloom filter bitarray which consists of 2-bit binaries, they will be converted from a 0 to a 1. On the other hand, a counting bloom filter bitarray consists of i-bit binaries, where i depends on the maximum integer value of the bit that the bloom filter is being designed for. A counting bloom filter bitarray is marked by increasing the integer value of the relevant bit by 1. This is a O(1) order operation because there is a fixed number of steps to mark the bitarray. \n",
        "\n",
        "###Searching\n",
        "\n",
        "To search for an element to a ordinary or counting bloom filter, the element is first run through k number of hash functions. Each hash function takes in the element and returns the index of the bitarray where the element should be marked. The relevant indices are then searched. If they are marked \"0\", then the element being searched for is absent from the bloom filter, and the bloom returns that the element is not in the bloom filter. \n",
        "\n",
        "However, each bit in the bitarray can be marked not just by one element but by several elements, as each of these elements can return the same index when passed through the hash function. Therefore, when searching for an element that is absent from the set, there is a probability that the bloom filter will return that the element is in the set, as all the indices in the bitarray returned by the hash functions have a value that is positive because they have been marked positive by other elements in the set. Therefore, the storage set itself needs to be checked for the element to confirm if the element is in the set. \n",
        "\n",
        "In essence, when a bloom filter returns that an element is not in a set, it is 100% accurate. However, when a bloom filter returns that an element is in a  set, it is not 100% accurate, with the percentage varying based on bitarray size, number of elements being stored, and number of hash functions. \n",
        "\n",
        "Search time complexity wise, here are 2 distinct groups of cases for the Bloom filter.In the first case,  the item being queried for is in the set, and in the second case it is not. \n",
        "\n",
        "In the first case, after the bloom filter returns True, the underlying data structure needs to be queried for the element being searched for anyway. Therefore the underlying complexity of the underlying data structure is maintained - if it is an array, the retrieval complexity remains O(n) with n being the size of the set being searched. The bloom filter itself adds ki operations for each element being queried, where k is the number of hash functions, i is a constant for the number of operations in each hash function + 1 step to search the bitarray.This is a O(1) operation on the bloom filter bitarray-level, so overall the complexity remains O(n).\n",
        "\n",
        "However, in the second case, if the bloom filter gives a true negative value instead of a false positive value, the order of operations is just O(1).  The bloom filter has a constant number of steps to hash the value, check the array and return that the element being searched for is absent. This is a significant improvement on the complexity of searching through the underlying data structure itself to return that the element is absent. \n",
        "\n",
        "A few key considerations that determines the efficency of the bloom filter, in terms of access times and false positive rates (which in turn determine complexity, as outlined above), are the memory size, number of hash functions, and number of items stored. The benefits and tradeoffs of each of these will be explored later in this paper. \n",
        "\n",
        "\n",
        "###Real world operations \n",
        "\n",
        "In summary, a Bloom filter is a data structure that acts as a \"filter\" to the actual underlying data structure where the information is stored, to improve the efficiency by making negative responses to queries an O(1) order operation rather than being an operation that has the complexity of the underlying data structure, which is O(n) for arrays. \n",
        "\n",
        "The bloom filter is useful for real-world operations that require checking an input against a existing set in a rapid manner, where there is a significant possibility that the input does not exist in the existing set, which is the case where the bloom filter increases efficiency. Real-world examples include checking a database of usernames if a new username is valid, or if a given email address is in a list of spam-mail email addresses - because the negative \"NO\" response is O(1), as compared to O(n) if the entire underlying data structure is examined, runtime for the end user is significantly smaller. \n",
        "\n",
        "However, a typical Bloom filter, which only has a 2-bit bitarray, only allows each bit to be 0 or 1 . Therefore, it is not possible to delete any element from the Bloom filter. This is because if an element is deleted, the corresponding bits cannot be switched from 1 back to 0, because other elements may have the same bit marked as 1. Therefore, by marking the bit as 0, all elements that map to that bit will be incorrectly marked as absent. \n"
      ]
    },
    {
      "metadata": {
        "id": "eCLfo5RVzpaq",
        "colab_type": "text"
      },
      "cell_type": "markdown",
      "source": [
        "##Give a description of the hash functions that your implementation uses."
      ]
    },
    {
      "metadata": {
        "id": "TfgbU924arbE",
        "colab_type": "text"
      },
      "cell_type": "markdown",
      "source": [
        "This paper's implementation of the Bloom filter uses the pyhash library's Fowler–Noll–Vo (fnv) hash. The hash function takes in the data being hashed as an argument. \n",
        "\n",
        "For each input element, it multiplies the offset_basis, which is a constant depending on the size of the hash(which is constant in this case), by FNV_prime. \n",
        "*  Offset bias is an integer whose value depends on the size of the hash but is roughly 1.0* 10^78 for for this implementation of the bloom filter, which hashes a 36-bit alphanumeric number. \n",
        "* FNV Prime is  a prime number seeded by an input number at initialization. Therefore, by seeding the hash function with different numbers at initialization, we can get distinct hash funcitons as the FNV_prime number is different. \n",
        "\n",
        "The 2 terms multiplied constitute the hash that will be used on the data.The hash is then used on the data, and the result is returned. \n",
        "\n",
        "This function is shown in the code below. \n"
      ]
    },
    {
      "metadata": {
        "id": "pqzNlfKpH_uE",
        "colab_type": "text"
      },
      "cell_type": "markdown",
      "source": [
        ""
      ]
    },
    {
      "metadata": {
        "id": "489uoZq5CcHZ",
        "colab_type": "code",
        "colab": {}
      },
      "cell_type": "code",
      "source": [
        "hash = offset_basis\n",
        "for each octet_of_data to be hashed\n",
        "        hash = hash * FNV_prime\n",
        "        hash = hash xor octet_of_data\n",
        "return hash"
      ],
      "execution_count": 0,
      "outputs": []
    },
    {
      "metadata": {
        "id": "hame6K8hGTt5",
        "colab_type": "text"
      },
      "cell_type": "markdown",
      "source": [
        "This hash function was evaluated along 3 metrics: speed, diffusion and determinism. \n",
        "* Speed: How quickly the hash function returns an output\n",
        "* Diffusion: How spread out the values returned by the hash function are; whether there is significant clustering\n",
        "* Determinsim: Whether the hash function gives the same output for the same input\n",
        "\n",
        "\n",
        "\n",
        "####Speed\n",
        "\n",
        "The fnv hash function is a non-cryptographic hash function, and hence is fast to compute\n",
        "\n",
        "####Diffusion \n",
        "The diffusion of the FNV hash function was tested using the code below, which compared a list of 100 items being inserted into a counting Bloom Filter using either a random insertion or an fnv hash function.  The FNV hash function actually had a more even distribution of random numbers compared to random insertion, which makes it highly effective in terms of ensuring all values are evenly distributed. \n",
        "\n",
        "This is because of how the fnv hash function multiplies all inputs by prime numbers. Therefore, there is little chance that consecutive elements will occupy consecutive positions in the bitarray, and the risk of collision is reduced . Moreover, an addition in this paper's implementation of the bloom filter hash function is that the output of the hash function is modded  by the length of the bitarray, which futher ensures that clustering does not occur. \n",
        "\n",
        "####Determinism \n",
        "The FNV test function is also deterministic - every input always maps to the same output. This is demonstrated in the deterministic test code written below, where an element is first inserted, then immediately deleted. If the hash function is not deterministic, it will not be possible to delete the element because the bit array indexes returned by the hash function will not correspond to the bit array indexed when the element was inserted into the bitarray. "
      ]
    },
    {
      "metadata": {
        "id": "vzvOyM2SIBrZ",
        "colab_type": "code",
        "outputId": "6c8b244d-6f51-416b-f196-144f6fd9c449",
        "colab": {
          "base_uri": "https://localhost:8080/",
          "height": 85
        }
      },
      "cell_type": "code",
      "source": [
        "'''\n",
        "Diffusion test code \n",
        "\n",
        "'''\n",
        "\n",
        "\n",
        "bitarray_length = 20\n",
        "hashFunction_count = 5\n",
        "\n",
        "diffusionBloomf = CountingBloomFilter(bitarray_length,hashFunction_count)\n",
        "\n",
        "\n",
        "\n",
        "for i in range(0,100): \n",
        "  diffusionBloomf.add(str(uuid.uuid4()))\n",
        "\n",
        "print(diffusionBloomf.bit_array)\n",
        "print(\"Range of values for FNV function:\", max(diffusionBloomf.bit_array) - min(diffusionBloomf.bit_array))\n",
        "\n",
        "for i in range(0,len(diffusionBloomf.storage)): \n",
        "  diffusionBloomf.delete(diffusionBloomf.storage[0])\n",
        "  \n",
        "for i in range(0,100):\n",
        "  randomNumber = random.randint(0,len(diffusionBloomf.bit_array))\n",
        "  for i in range(0,hashFunction_count): \n",
        "    diffusionBloomf.bit_array[randomNumber - 1] += 1\n",
        "\n",
        "print(diffusionBloomf.bit_array)\n",
        "print(\"Range of values for random insertion:\", max(diffusionBloomf.bit_array) - min(diffusionBloomf.bit_array))\n",
        "  "
      ],
      "execution_count": 4,
      "outputs": [
        {
          "output_type": "stream",
          "text": [
            "[18, 24, 28, 26, 32, 20, 22, 22, 28, 28, 22, 27, 26, 29, 27, 30, 19, 26, 25, 21]\n",
            "Range of values for FNV function: 14\n",
            "[15, 40, 25, 25, 25, 35, 30, 30, 40, 25, 15, 30, 10, 30, 15, 30, 20, 20, 15, 25]\n",
            "Range of values for random insertion: 30\n"
          ],
          "name": "stdout"
        }
      ]
    },
    {
      "metadata": {
        "id": "a7jcvAQaOeIU",
        "colab_type": "code",
        "outputId": "71cf9c8f-0ed6-4e69-d54c-1a663a9f5019",
        "colab": {
          "base_uri": "https://localhost:8080/",
          "height": 34
        }
      },
      "cell_type": "code",
      "source": [
        "'''\n",
        "Determinism test code \n",
        "\n",
        "'''\n",
        "bitarray_length = 20\n",
        "hashFunction_count = 5\n",
        "errorCounter = 0\n",
        "\n",
        "determinismBloomf = CountingBloomFilter(bitarray_length,hashFunction_count)\n",
        "for i in range (0,1000): \n",
        "  valueAdded = str(uuid.uuid4())\n",
        "  determinismBloomf.add(valueAdded)\n",
        "  determinismBloomf.delete(valueAdded)\n",
        "  if sum(determinismBloomf.bit_array) != 0: \n",
        "    errorCounter += 1 \n",
        "\n",
        "print(\"Total number of non-deterministic hashes:\",errorCounter)\n",
        "  \n",
        "  "
      ],
      "execution_count": 5,
      "outputs": [
        {
          "output_type": "stream",
          "text": [
            "Total number of non-deterministic hashes: 0\n"
          ],
          "name": "stdout"
        }
      ]
    },
    {
      "metadata": {
        "id": "rSglE4IGzsU3",
        "colab_type": "text"
      },
      "cell_type": "markdown",
      "source": [
        "##Provide an analysis of how your implementation scales in terms of:\n",
        "- memory size as a function of the false positive rate\n",
        "- memory size as a function of the number of items stored\n",
        "- access time as a function of the false positive rate\n",
        "- access time as a function of the number of items stored"
      ]
    },
    {
      "metadata": {
        "id": "TQUTG3Zjms3H",
        "colab_type": "text"
      },
      "cell_type": "markdown",
      "source": [
        "In a bloom filter, there are 4 distinct variables which can be manipulated or observed \n",
        "* Memory size: The size of the bit array used\n",
        "* Number of items stored \n",
        "* False positive rate \n",
        "* Number of hash functions \n",
        "* Access time \n",
        "\n",
        "\n",
        "First, this paper will investigate the relationship between the following pairs of variables, with all other variables being held constant\n",
        "* number of hash functions and false positive rate \n",
        "* memory size and false positive rate\n",
        "* memory size and number of items stored\n",
        "* access time and false positive time\n",
        "* access time and number of items stored\n",
        "\n",
        "For each section, first the theoretical relationship will be calculated. Then, the bloom filter implementation will be tested to find the actual relationship"
      ]
    },
    {
      "metadata": {
        "id": "vUPkOCf0rEoX",
        "colab_type": "text"
      },
      "cell_type": "markdown",
      "source": [
        "###Hash functions x False Positive Rate "
      ]
    },
    {
      "metadata": {
        "id": "6XU51CX-asrJ",
        "colab_type": "text"
      },
      "cell_type": "markdown",
      "source": [
        "This implementation of bloom filters has the ability to accept and implement a variable number of hash functions. We will now attempt to find the ideal number of hash functions. We will first analyze the theoretical relationship between number of hash functions and false positive rate \n",
        "\n",
        "1) First, we see that the probability *bp*  that a particular bit is 0 after inserting n elements, hashed k times, into a size m bitarray is   *bp =* $(1- \\frac{1}{m} ) ^{kn}$\n",
        "\n",
        "2) The false positive rate p = $bp ^{k}$ =  $((1- \\frac{1}{m} ) ^{kn}) ^ {k}$. This approximates to $(1-e^{\\frac{-kn}{m}})^k$\n",
        "\n",
        "3) Simplifying the equation as p tends to 0, k = $\\frac{m}{n}log2$\n",
        "\n",
        "We test this with a implementation of the Bloom Filter. The amount of items to be stored while the bit array memory size is varied, and the effect of this in terms of the number of hash functions that leads to the optimal false positive rate is observed. \n",
        "\n",
        "From the equation, it is expected that the optimal number of hash functions is roughly 0.7 the ratio of the memory size to the number of items stored. "
      ]
    },
    {
      "metadata": {
        "id": "ljQWOwZgC23c",
        "colab_type": "code",
        "colab": {
          "base_uri": "https://localhost:8080/",
          "height": 361
        },
        "outputId": "f70661e6-a674-4a46-a149-52f826b4dd2a"
      },
      "cell_type": "code",
      "source": [
        "\n",
        "import matplotlib.pyplot as plt\n",
        "\n",
        "inputRange = 10\n",
        "inputData = [] \n",
        "\n",
        "for i in range(0,storageItemNumber):\n",
        "  inputData.append(str(uuid.uuid4()))\n",
        "  \n",
        "searchData = []\n",
        "for i in range(0,testItemNumber):\n",
        "  searchData.append(str(uuid.uuid4()))\n",
        "\n",
        "\n",
        "  \n",
        "for exampleCounter in range(1,5): \n",
        "  xarray = []\n",
        "  yarray = []\n",
        "  bitarray_length = exampleCounter*1000\n",
        "  storageItemNumber = 1000\n",
        "  testItemNumber = 500\n",
        "\n",
        "  hashFunctionBloomf = CountingBloomFilter(bitarray_length,hashFunction_count)\n",
        "  for hashFunctionCounter in range(1,inputRange): \n",
        "    averageCounter = []\n",
        "    for i in range(0,10): \n",
        "\n",
        "      hashFunctionBloomf = CountingBloomFilter(bitarray_length,hashFunctionCounter)\n",
        "\n",
        "      for counterA in range(0,storageItemNumber): \n",
        "        hashFunctionBloomf.add(inputData[counterA])\n",
        "\n",
        "      for counterB in range (0,testItemNumber): \n",
        "        hashFunctionBloomf.search(searchData[counterB])\n",
        "\n",
        "      averageCounter.append(hashFunctionBloomf.false_positive_counter[1]/(hashFunctionBloomf.false_positive_counter[1]+hashFunctionBloomf.false_positive_counter[0]))\n",
        "    xarray.append(hashFunctionCounter)\n",
        "    yarray.append(sum(averageCounter)/len(averageCounter))\n",
        "  title = \"m/n:\" + str(exampleCounter) + \", Theoretical optimal k = \" + str(0.7*bitarray_length/storageItemNumber)\n",
        "  plt.plot(xarray, yarray, label = title )\n",
        "  \n",
        "  \n",
        "plt.legend()\n",
        "\n",
        "plt.xlabel('Number of Hash Functions k')\n",
        "plt.ylabel('False Positive Rate p ')\n",
        "\n",
        "\n",
        "plt.show()\n",
        "\n",
        "\n",
        "\n",
        "\n",
        "\n",
        "  \n",
        "\n"
      ],
      "execution_count": 7,
      "outputs": [
        {
          "output_type": "display_data",
          "data": {
            "image/png": "[encoded data removed]",
            "text/plain": [
              "<matplotlib.figure.Figure at 0x7f8843c2ae10>"
            ]
          },
          "metadata": {
            "tags": []
          }
        }
      ]
    },
    {
      "metadata": {
        "id": "9uMb-9I2ngfs",
        "colab_type": "text"
      },
      "cell_type": "markdown",
      "source": [
        "As can be seen from the plot, the number theoretical optimal number of hash functions matches closely with the actual number number of hash functions that gives the lowest false positive rate. Because the theoretical number is a float and not a integer, the real-world optimal consists of  a pair of 2 different numbers as the theoretical optimal lies between them. \n",
        "\n"
      ]
    },
    {
      "metadata": {
        "id": "QCtYng5vt2Dc",
        "colab_type": "text"
      },
      "cell_type": "markdown",
      "source": [
        "###Memory Size x False Positive Rate "
      ]
    },
    {
      "metadata": {
        "id": "51pxK5agogFk",
        "colab_type": "text"
      },
      "cell_type": "markdown",
      "source": [
        "With the number of items being stored as a constant, the memory size also affects the false positive rate because the smaller the bit array memory size, the greater the number of activated bits in the bit array. This would increase the likelihood that for any given element being queried, the bits returned by the bitarray will be positive because they have been marked positive by other elements, even though the element being queried is not in the storage set.  \n",
        "\n",
        "Deriving this mathematically, earlier we established that the false positive rate $p = (1-e^{\\frac{-kn}{m}})^k$. Given a constant number of hash functions and number of items beign stored, we arrive at the formula $p = (1-e^{\\frac{-a}{m}})^b$, where a and b are constants. \n",
        "\n",
        "This theoretical graph was plotted against the actual runtime of the algorithm, to test if the real-world implementation holds true to the theoretical result. Given we have confirmed that  $p = f(m), f(x) = (1-e^{\\frac{-a}{m}})^b$, where a and b are constants, we can then derive $m = f^{-1}(p)$, which is plotted below\n",
        "\n",
        "\n",
        "Note: Because the memory size is a variable, there is no constant optimal number of hash functions, and therefore 2 hash functions were used "
      ]
    },
    {
      "metadata": {
        "id": "2SWPUZpbBQuO",
        "colab_type": "code",
        "colab": {
          "base_uri": "https://localhost:8080/",
          "height": 361
        },
        "outputId": "b229fe37-d070-4bb9-b055-4aef84342f5f"
      },
      "cell_type": "code",
      "source": [
        "'''\n",
        "Plot of Memory size x False Positive Rate\n",
        "'''\n",
        "import matplotlib.pyplot as plt\n",
        "import math\n",
        "\n",
        "hashFunction_count = 2\n",
        "storageItemNumber = 1000\n",
        "testItemNumber = 500\n",
        "\n",
        "part1Bloomf = CountingBloomFilter(bitarray_length,hashFunction_count)\n",
        "\n",
        "inputRange = 40\n",
        "xarray = []\n",
        "yarray = []\n",
        "theoreticalxarray = []\n",
        "theoreticalyarray = []\n",
        "  \n",
        "  \n",
        "inputData = [] \n",
        "for i in range(0,storageItemNumber):\n",
        "  inputData.append(str(uuid.uuid4()))\n",
        "  \n",
        "searchData = []\n",
        "for i in range(0,testItemNumber):\n",
        "  searchData.append(str(uuid.uuid4()))\n",
        "\n",
        "  \n",
        "for memorySizeBucketCounter in range(1,inputRange): \n",
        "  bit_array_size = memorySizeBucketCounter*50\n",
        "  averageCounter = []\n",
        "  for i in range(0,10): \n",
        "\n",
        "    part1Bloomf = CountingBloomFilter(bit_array_size,hashFunction_count)\n",
        "\n",
        "    for counterA in range(0,storageItemNumber): \n",
        "      part1Bloomf.add(inputData[counterA])\n",
        "\n",
        "    for counterB in range (0,testItemNumber): \n",
        "      part1Bloomf.search(searchData[counterB])\n",
        "\n",
        "    averageCounter.append(part1Bloomf.false_positive_counter[1]/(part1Bloomf.false_positive_counter[1]+part1Bloomf.false_positive_counter[0]))\n",
        "  yarray.append(bit_array_size)\n",
        "  xarray.append(sum(averageCounter)/len(averageCounter))\n",
        "  \n",
        "  theoreticalyarray.append(bit_array_size)\n",
        "  theoreticalxarray.append(math.pow((1-math.exp(-hashFunction_count*storageItemNumber/bit_array_size)),hashFunction_count))\n",
        "\n",
        "\n",
        "plt.plot(theoreticalxarray[1:], theoreticalyarray[1:], label = \"Theoretical performance\" )\n",
        "plt.plot(xarray, yarray, label = \"Implementation performance\" )\n",
        "\n",
        "plt.legend()\n",
        "\n",
        "plt.ylabel('Memory size m')\n",
        "plt.xlabel('False Positive Rate p ')\n",
        "\n",
        "plt.show()\n",
        "\n",
        "  \n",
        "\n"
      ],
      "execution_count": 25,
      "outputs": [
        {
          "output_type": "display_data",
          "data": {
            "image/png": "[encoded data removed]",
            "text/plain": [
              "<matplotlib.figure.Figure at 0x7f8843807e80>"
            ]
          },
          "metadata": {
            "tags": []
          }
        }
      ]
    },
    {
      "metadata": {
        "id": "u9APS6kUXXCC",
        "colab_type": "text"
      },
      "cell_type": "markdown",
      "source": [
        "As can be seen from the graph, the Bloom filter implementation performs close to the performance predicted by the formula. There are variations because of small variations in the speed of computation, but the general trend is followed. \n",
        "\n"
      ]
    },
    {
      "metadata": {
        "id": "u3ZRZvIct_-H",
        "colab_type": "text"
      },
      "cell_type": "markdown",
      "source": [
        "###Memory size x number of items stored\n"
      ]
    },
    {
      "metadata": {
        "id": "YUWxQFRmwB6L",
        "colab_type": "text"
      },
      "cell_type": "markdown",
      "source": [
        "Memory size and number of items stored are 2 independent variables with no relationship unless we hold the other 2 variables constant, which this analysis will do. \n",
        "\n",
        "Earlier, we arrived at the formula $p = (1-e^{\\frac{-kn}{m}})^k$.Holding p, the false positive probability and number of hash functions k constant, and shifting the terms to arrive at a relationship between m and n, we arrive at the relationship $\\frac{nlogp}{log(1/(2^(log_{10}2))}$\n",
        "\n"
      ]
    },
    {
      "metadata": {
        "id": "huzSsecjuLAO",
        "colab_type": "text"
      },
      "cell_type": "markdown",
      "source": [
        "###Access time x false positive rate\n"
      ]
    },
    {
      "metadata": {
        "id": "yldXLbeAwZ6W",
        "colab_type": "text"
      },
      "cell_type": "markdown",
      "source": [
        "As outlined in the introduction, with the bloom filter, all values which the bloom filter returns \"true\" will have to be searched for in the underlying data structure, regardless if they are true positives or false positives. Assuming a list of only negative examples, the false positive rate therefore has a direct correlation with the total access time. If the false positive rate is 0.0 for a list of only negative examples, we will expect the access time to be O(1) and therefore 0 as well. If the false positive rate is 1.0, we will expect the access time to be O(n), as the underlying data structure is queried every. \n",
        "\n",
        "The actual implementation confirms this, with the overall access time approaching the array access time as the false positive rate gets closer to 1. The actual access time is greater than the array access time when the false positive rate is close to 1 because the bloom filter adds on operations to just array search and therefore adds time to the array access time. \n",
        "\n",
        "Extending this analysis, we can also include the percentage of queries in the incoming list to figure out the access time not only for all-false queries but both true and false queries. \n",
        "\n",
        "Let $t_{1}$ be the time taken to conduct the constant number of operations in the bloom filter , $t_{2}$ be the time taken to query the underlying data structure, assumed to be an array in this case, for the element, $x$ be the fraction of queries that are false and $y$ be the false positive rate, and $z$ be the access time for each query, on average, and $n$ be the number of queries. \n",
        "\n",
        "Now, we have established that when the query is negative, $z_{negative} = y*(t_{1} + t_{2}) + (1-y)*(t_{1}) = 1 - y*t_{2}$.\n",
        "\n",
        "When the query is positive, \n",
        "$z_{positive}=t_{1}+t_{2}$\n",
        "\n",
        "The total access time for n queries is $n*(x)*(z_{negative}) + n*(1 - x)*(z_{positive}) = n*(x)*(1 - y*t_{2}) +n*(1 - x)*(t_{1}+t_{2})$, which simplified gives us $n((x)*(1 - y*t_{2}) + (1 - x)*(t_{1}+t_{2}))$\n",
        "\n"
      ]
    },
    {
      "metadata": {
        "id": "dZpFxv5OuLfv",
        "colab_type": "code",
        "colab": {
          "base_uri": "https://localhost:8080/",
          "height": 361
        },
        "outputId": "cb1d6517-4d11-4368-df77-37d8f11622dc"
      },
      "cell_type": "code",
      "source": [
        "'''\n",
        "Access time x false positive rate\n",
        "'''\n",
        "import matplotlib.pyplot as plt\n",
        "import time\n",
        "\n",
        "hashFunction_count = 2\n",
        "storageItemNumber = 1000\n",
        "testItemNumber = 500\n",
        "\n",
        "part2Bloomf = CountingBloomFilter(bitarray_length,hashFunction_count)\n",
        "\n",
        "inputRange = 40\n",
        "xarray = []\n",
        "yarray = []\n",
        "  \n",
        "  \n",
        "inputData = [] \n",
        "for i in range(0,storageItemNumber):\n",
        "  inputData.append(str(uuid.uuid4()))\n",
        "  \n",
        "searchData = []\n",
        "for i in range(0,testItemNumber):\n",
        "  searchData.append(str(uuid.uuid4()))\n",
        "\n",
        "  \n",
        "for memorySizeBucketCounter in range(1,inputRange): \n",
        "  timerAverageCounter = []\n",
        "  falsePositiveAverageCounter = []\n",
        "  for i in range(0,10): \n",
        "\n",
        "    part2Bloomf = CountingBloomFilter(memorySizeBucketCounter*50,hashFunction_count)\n",
        "\n",
        "    for counterA in range(0,storageItemNumber): \n",
        "      part2Bloomf.add(inputData[counterA])\n",
        "\n",
        "    for counterB in range (0,testItemNumber): \n",
        "      start_time = time.time()\n",
        "      part2Bloomf.search(searchData[counterB])\n",
        "      timerAverageCounter.append((time.time() - start_time))\n",
        "      \n",
        "\n",
        "    falsePositiveAverageCounter.append(part2Bloomf.false_positive_counter[1]/(part2Bloomf.false_positive_counter[1]+part2Bloomf.false_positive_counter[0]))\n",
        "    title = \"Implementation performance\"\n",
        "  xarray.append(sum(falsePositiveAverageCounter)/len(falsePositiveAverageCounter))\n",
        "  yarray.append(sum(timerAverageCounter)/len(timerAverageCounter))\n",
        "plt.plot(xarray, yarray, label = title )\n",
        "\n",
        "\n",
        "\n",
        "test = 0\n",
        "for counterB in range (0,testItemNumber): \n",
        "  timerAverageCounter = []\n",
        "  start_time = time.time()\n",
        "  for i in range (0,len(part2Bloomf.storage)): \n",
        "    test += 1 \n",
        "  timerAverageCounter.append((time.time() - start_time))\n",
        "arrayAccessTime = sum(timerAverageCounter)/len(timerAverageCounter)\n",
        "\n",
        "theoreticalyarray = [arrayAccessTime,arrayAccessTime]\n",
        "theoreticalxarray = [0.4,1.0]\n",
        "plt.plot(theoreticalxarray,theoreticalyarray, label = \"Array access time\")\n",
        "\n",
        "plt.legend()\n",
        "\n",
        "plt.xlabel('False Positive Rate p ')\n",
        "plt.ylabel('Access time t ')\n",
        "plt.show()\n",
        "\n"
      ],
      "execution_count": 10,
      "outputs": [
        {
          "output_type": "display_data",
          "data": {
            "image/png": "[encoded data removed]",
            "text/plain": [
              "<matplotlib.figure.Figure at 0x7f8840eb4710>"
            ]
          },
          "metadata": {
            "tags": []
          }
        }
      ]
    },
    {
      "metadata": {
        "id": "2kZMlIWOuLzA",
        "colab_type": "text"
      },
      "cell_type": "markdown",
      "source": [
        "###Access time x number of items stored \n",
        "---\n",
        "\n"
      ]
    },
    {
      "metadata": {
        "id": "igdqIGJw1460",
        "colab_type": "text"
      },
      "cell_type": "markdown",
      "source": [
        "The access time is expected to follow the complexity of the underlying data structure. This is because the Bloom filter itself has a constant number of operations, and if it returns that an item is in a data structure the data structure needs to be searched for the item. This this paper's implementation, the underlying data structure is an array, and therefore the access time is expected to follow complexity O(n). \n",
        "\n",
        "The implementation shows that this holds true, with the access time following a linear relationship with the number of items stored  \n",
        "\n"
      ]
    },
    {
      "metadata": {
        "id": "9a8FcPdJuMUk",
        "colab_type": "code",
        "colab": {
          "base_uri": "https://localhost:8080/",
          "height": 361
        },
        "outputId": "724081d4-8c5e-4d5f-fd43-393dd11a4c85"
      },
      "cell_type": "code",
      "source": [
        "'''\n",
        "assuming percentage correct is 50\n",
        "'''\n",
        "import matplotlib.pyplot as plt\n",
        "import time\n",
        "import numpy as np\n",
        "\n",
        "bitarray_length = 5000\n",
        "hashFunction_count = 5\n",
        "testItemNumber = 500\n",
        "storageItemNumber = 5000\n",
        "part3Bloomf = CountingBloomFilter(bitarray_length,hashFunction_count)\n",
        "\n",
        "inputRange = 20\n",
        "storageItemNumber = inputRange * 100\n",
        "xarray = []\n",
        "yarray = []\n",
        "  \n",
        "  \n",
        "inputData = [] \n",
        "for i in range(0,storageItemNumber):\n",
        "  inputData.append(str(uuid.uuid4()))\n",
        "\n",
        "\n",
        "for i in range(0,testItemNumber):\n",
        "  inputData.append(str(uuid.uuid4()))\n",
        "\n",
        "  \n",
        "for StorageBucketCounter in range(1,inputRange): \n",
        "  averageCounter = []\n",
        "  for i in range(0,10): \n",
        "\n",
        "    part3Bloomf = CountingBloomFilter(bitarray_length,hashFunctionCounter)\n",
        "\n",
        "    for counterA in range(0,StorageBucketCounter*100): \n",
        "      part3Bloomf.add(inputData[counterA])\n",
        "      \n",
        "    for counterB in range (0,testItemNumber): \n",
        "      start_time = time.time()\n",
        "      part3Bloomf.search(inputData[counterB*2])\n",
        "      averageCounter.append((time.time() - start_time))\n",
        "      \n",
        "    \n",
        "  xarray.append(StorageBucketCounter*100)\n",
        "  yarray.append(sum(averageCounter)/len(averageCounter))\n",
        "\n",
        "z = np.polyfit(xarray, yarray, 1)\n",
        "p = np.poly1d(z)\n",
        "title1 = \"Best Fit Line\"\n",
        "plt.plot(xarray,p(xarray),\"r--\",label = title1)\n",
        "\n",
        "title = \"Implementation performance\"\n",
        "plt.plot(xarray, yarray, label = title )\n",
        "\n",
        "plt.legend()\n",
        "\n",
        "plt.xlabel('Number of items stored n ')\n",
        "plt.ylabel('Access time t ')\n",
        "plt.show()\n",
        "\n",
        "\n",
        "  \n",
        "  \n",
        "\n"
      ],
      "execution_count": 18,
      "outputs": [
        {
          "output_type": "display_data",
          "data": {
            "image/png": "[encoded data removed]",
            "text/plain": [
              "<matplotlib.figure.Figure at 0x7f8840c77dd8>"
            ]
          },
          "metadata": {
            "tags": []
          }
        }
      ]
    },
    {
      "metadata": {
        "id": "h42QJi4kz5Kw",
        "colab_type": "text"
      },
      "cell_type": "markdown",
      "source": [
        "##Produce a plot to show that your implementation’s false positive rate matches the theoretically expected rate."
      ]
    },
    {
      "metadata": {
        "id": "k-76C90M4Oa5",
        "colab_type": "text"
      },
      "cell_type": "markdown",
      "source": [
        "The plot is created below."
      ]
    },
    {
      "metadata": {
        "id": "vjf2r7n14NT3",
        "colab_type": "code",
        "colab": {
          "base_uri": "https://localhost:8080/",
          "height": 361
        },
        "outputId": "a127ed1d-1f84-45ee-8186-ec969853f8ff"
      },
      "cell_type": "code",
      "source": [
        "\n",
        "\n",
        "'''\n",
        "Plot of Memory size x False Positive Rate\n",
        "'''\n",
        "import matplotlib.pyplot as plt\n",
        "import math\n",
        "\n",
        "hashFunction_count = 2\n",
        "storageItemNumber = 1000\n",
        "testItemNumber = 500\n",
        "\n",
        "part1Bloomf = CountingBloomFilter(bitarray_length,hashFunction_count)\n",
        "\n",
        "inputRange = 40\n",
        "xarray = []\n",
        "yarray = []\n",
        "theoreticalxarray = []\n",
        "theoreticalyarray = []\n",
        "  \n",
        "  \n",
        "inputData = [] \n",
        "for i in range(0,storageItemNumber):\n",
        "  inputData.append(str(uuid.uuid4()))\n",
        "  \n",
        "searchData = []\n",
        "for i in range(0,testItemNumber):\n",
        "  searchData.append(str(uuid.uuid4()))\n",
        "\n",
        "  \n",
        "for memorySizeBucketCounter in range(1,inputRange): \n",
        "  bit_array_size = memorySizeBucketCounter*50\n",
        "  averageCounter = []\n",
        "  for i in range(0,10): \n",
        "\n",
        "    part1Bloomf = CountingBloomFilter(bit_array_size,hashFunction_count)\n",
        "\n",
        "    for counterA in range(0,storageItemNumber): \n",
        "      part1Bloomf.add(inputData[counterA])\n",
        "\n",
        "    for counterB in range (0,testItemNumber): \n",
        "      part1Bloomf.search(searchData[counterB])\n",
        "\n",
        "    averageCounter.append(part1Bloomf.false_positive_counter[1]/(part1Bloomf.false_positive_counter[1]+part1Bloomf.false_positive_counter[0]))\n",
        "  xarray.append(bit_array_size)\n",
        "  yarray.append(sum(averageCounter)/len(averageCounter))\n",
        "  \n",
        "  theoreticalxarray.append(bit_array_size)\n",
        "  theoreticalyarray.append(math.pow((1-math.exp(-hashFunction_count*storageItemNumber/bit_array_size)),hashFunction_count))\n",
        "\n",
        "\n",
        "plt.plot(theoreticalxarray[1:], theoreticalyarray[1:], label = \"Theoretical performance\" )\n",
        "plt.plot(xarray, yarray, label = \"Implementation performance\" )\n",
        "\n",
        "plt.legend()\n",
        "\n",
        "plt.xlabel('Memory size m')\n",
        "plt.ylabel('False Positive Rate p ')\n",
        "\n",
        "plt.show()\n",
        "\n",
        "  \n",
        "\n"
      ],
      "execution_count": 24,
      "outputs": [
        {
          "output_type": "display_data",
          "data": {
            "image/png": "[encoded data removed]",
            "text/plain": [
              "<matplotlib.figure.Figure at 0x7f8843875ac8>"
            ]
          },
          "metadata": {
            "tags": []
          }
        }
      ]
    },
    {
      "metadata": {
        "id": "dScLP-fd0l5Y",
        "colab_type": "text"
      },
      "cell_type": "markdown",
      "source": [
        " \n",
        "  #cs110-hashing: Hash functions are used and meticulously and systematically explained in terms of how they work and the 3 properties which make them effective in this paper's implementation of bloom filters - being fast, deterministic and diffused. These properties are also illustrated through simulations when appropriate. \n",
        "\n",
        "  #cs110-complexity: Not only is complexity brought up and used effectively when appropriate throughout the paper , but in part 4, it is used to derive a novel formula. \n",
        "\n",
        "  #cs110-optimalalgorithm: The merits of many different ways of implementing Bloom filters, with variable memory size, number of items stored, false positive probability and number of hash functions, is not just discussed but analyzed thoroughly through simulations. This was also carried out for number of hash functions and for the counting bloom filter, which is above and beyond the assignment scope. \n",
        "  \n",
        "   \n",
        "  #professionalism: Established guidelines were followed to clearly and effectively present the paper, with proper sections, references and figures. \n",
        "\n",
        "  #algorithms: Algorithmic thinking applied both on a micro-level, in terms of implementing effective algorithms in each section, as well as on a macro-level, in terms of analyzing the bloom filter and its operations. After a overview and implementionof a working counting bloom filter, which includes allowing a variable number of hash functions, the operations are analyzed in terms of complexity and runtime, and the different variables involved in creating a bloom filter are systematically analyzed. \n",
        "\n",
        " #probability: The probability of a getting a false positive result when querying a bloom filter is accurately calculated with clear detailed steps, and also simulated. \n",
        "\n",
        " #simulation: Simulations are used effectively to complement and check mathematical derivations of optimal variable values for number of items stored per bit of memory and number of hash functions, in order to optimize for false positive rates or access times. \n",
        "\n",
        " #optimization: Implemented a dual-track optimization technique for number of hash functions- mathematically deriving calculating optimal values for k and then checking these values against real-world data. The optimal values for m/n and k were found and can now be\n",
        "\n"
      ]
    }
  ]
}